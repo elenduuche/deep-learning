{
 "cells": [
  {
   "cell_type": "markdown",
   "metadata": {
    "collapsed": true,
    "deletable": true,
    "editable": true
   },
   "source": [
    "# Image Classification\n",
    "In this project, you'll classify images from the [CIFAR-10 dataset](https://www.cs.toronto.edu/~kriz/cifar.html).  The dataset consists of airplanes, dogs, cats, and other objects. You'll preprocess the images, then train a convolutional neural network on all the samples. The images need to be normalized and the labels need to be one-hot encoded.  You'll get to apply what you learned and build a convolutional, max pooling, dropout, and fully connected layers.  At the end, you'll get to see your neural network's predictions on the sample images.\n",
    "## Get the Data\n",
    "Run the following cell to download the [CIFAR-10 dataset for python](https://www.cs.toronto.edu/~kriz/cifar-10-python.tar.gz)."
   ]
  },
  {
   "cell_type": "code",
   "execution_count": 2,
   "metadata": {
    "collapsed": false,
    "deletable": true,
    "editable": true,
    "scrolled": true
   },
   "outputs": [
    {
     "name": "stdout",
     "output_type": "stream",
     "text": [
      "All files found!\n"
     ]
    }
   ],
   "source": [
    "\"\"\"\n",
    "DON'T MODIFY ANYTHING IN THIS CELL THAT IS BELOW THIS LINE\n",
    "\"\"\"\n",
    "from urllib.request import urlretrieve\n",
    "from os.path import isfile, isdir\n",
    "from tqdm import tqdm\n",
    "import problem_unittests as tests\n",
    "import tarfile\n",
    "\n",
    "cifar10_dataset_folder_path = 'cifar-10-batches-py'\n",
    "\n",
    "# Use Floyd's cifar-10 dataset if present\n",
    "floyd_cifar10_location = '/input/cifar-10/python.tar.gz'\n",
    "if isfile(floyd_cifar10_location):\n",
    "    tar_gz_path = floyd_cifar10_location\n",
    "else:\n",
    "    tar_gz_path = 'cifar-10-python.tar.gz'\n",
    "\n",
    "class DLProgress(tqdm):\n",
    "    last_block = 0\n",
    "\n",
    "    def hook(self, block_num=1, block_size=1, total_size=None):\n",
    "        self.total = total_size\n",
    "        self.update((block_num - self.last_block) * block_size)\n",
    "        self.last_block = block_num\n",
    "\n",
    "if not isfile(tar_gz_path):\n",
    "    with DLProgress(unit='B', unit_scale=True, miniters=1, desc='CIFAR-10 Dataset') as pbar:\n",
    "        urlretrieve(\n",
    "            'https://www.cs.toronto.edu/~kriz/cifar-10-python.tar.gz',\n",
    "            tar_gz_path,\n",
    "            pbar.hook)\n",
    "\n",
    "if not isdir(cifar10_dataset_folder_path):\n",
    "    with tarfile.open(tar_gz_path) as tar:\n",
    "        tar.extractall()\n",
    "        tar.close()\n",
    "\n",
    "\n",
    "tests.test_folder_path(cifar10_dataset_folder_path)"
   ]
  },
  {
   "cell_type": "markdown",
   "metadata": {
    "deletable": true,
    "editable": true
   },
   "source": [
    "## Explore the Data\n",
    "The dataset is broken into batches to prevent your machine from running out of memory.  The CIFAR-10 dataset consists of 5 batches, named `data_batch_1`, `data_batch_2`, etc.. Each batch contains the labels and images that are one of the following:\n",
    "* airplane\n",
    "* automobile\n",
    "* bird\n",
    "* cat\n",
    "* deer\n",
    "* dog\n",
    "* frog\n",
    "* horse\n",
    "* ship\n",
    "* truck\n",
    "\n",
    "Understanding a dataset is part of making predictions on the data.  Play around with the code cell below by changing the `batch_id` and `sample_id`. The `batch_id` is the id for a batch (1-5). The `sample_id` is the id for a image and label pair in the batch.\n",
    "\n",
    "Ask yourself \"What are all possible labels?\", \"What is the range of values for the image data?\", \"Are the labels in order or random?\".  Answers to questions like these will help you preprocess the data and end up with better predictions."
   ]
  },
  {
   "cell_type": "code",
   "execution_count": 3,
   "metadata": {
    "collapsed": false,
    "deletable": true,
    "editable": true
   },
   "outputs": [
    {
     "name": "stdout",
     "output_type": "stream",
     "text": [
      "\n",
      "Stats of batch 1:\n",
      "Samples: 10000\n",
      "Label Counts: {0: 1005, 1: 974, 2: 1032, 3: 1016, 4: 999, 5: 937, 6: 1030, 7: 1001, 8: 1025, 9: 981}\n",
      "First 20 Labels: [6, 9, 9, 4, 1, 1, 2, 7, 8, 3, 4, 7, 7, 2, 9, 9, 9, 3, 2, 6]\n",
      "\n",
      "Example of Image 5:\n",
      "Image - Min Value: 0 Max Value: 252\n",
      "Image - Shape: (32, 32, 3)\n",
      "Label - Label Id: 1 Name: automobile\n"
     ]
    },
    {
     "data": {
      "image/png": "[encoded data removed]",
      "text/plain": [
       "<matplotlib.figure.Figure at 0x7f271073ecf8>"
      ]
     },
     "metadata": {
      "image/png": {
       "height": 250,
       "width": 253
      }
     },
     "output_type": "display_data"
    }
   ],
   "source": [
    "%matplotlib inline\n",
    "%config InlineBackend.figure_format = 'retina'\n",
    "\n",
    "import helper\n",
    "import numpy as np\n",
    "\n",
    "# Explore the dataset\n",
    "batch_id = 1\n",
    "sample_id = 5\n",
    "helper.display_stats(cifar10_dataset_folder_path, batch_id, sample_id)"
   ]
  },
  {
   "cell_type": "markdown",
   "metadata": {
    "deletable": true,
    "editable": true
   },
   "source": [
    "## Implement Preprocess Functions\n",
    "### Normalize\n",
    "In the cell below, implement the `normalize` function to take in image data, `x`, and return it as a normalized Numpy array. The values should be in the range of 0 to 1, inclusive.  The return object should be the same shape as `x`."
   ]
  },
  {
   "cell_type": "code",
   "execution_count": 4,
   "metadata": {
    "collapsed": false,
    "deletable": true,
    "editable": true
   },
   "outputs": [
    {
     "name": "stdout",
     "output_type": "stream",
     "text": [
      "Tests Passed\n"
     ]
    }
   ],
   "source": [
    "def normalize(x):\n",
    "    \"\"\"\n",
    "    Normalize a list of sample image data in the range of 0 to 1\n",
    "    : x: List of image data.  The image shape is (32, 32, 3)\n",
    "    : return: Numpy array of normalize data\n",
    "    \"\"\"\n",
    "    # TODO: Implement Function\n",
    "    # Normalize RGB for each image data\n",
    "    norm_image_data = np.ndarray(x.shape, np.float32)\n",
    "    for i, image_data in enumerate(x):\n",
    "        temp_image_data = np.ndarray(x.shape, np.float32)\n",
    "        temp_image_data = image_data\n",
    "        temp_image_data[:,:,0] = abs((temp_image_data[:,:,0] - 128)/128)\n",
    "        temp_image_data[:,:,1] = abs((temp_image_data[:,:,1] - 128)/128)\n",
    "        temp_image_data[:,:,2] = abs((temp_image_data[:,:,2] - 128)/128)\n",
    "        norm_image_data[i] = temp_image_data\n",
    "    #print('Sample normalized image data: {}'.format(norm_image_data[2].max()))\n",
    "    return norm_image_data\n",
    "\n",
    "\n",
    "\"\"\"\n",
    "DON'T MODIFY ANYTHING IN THIS CELL THAT IS BELOW THIS LINE\n",
    "\"\"\"\n",
    "tests.test_normalize(normalize)"
   ]
  },
  {
   "cell_type": "markdown",
   "metadata": {
    "deletable": true,
    "editable": true
   },
   "source": [
    "### One-hot encode\n",
    "Just like the previous code cell, you'll be implementing a function for preprocessing.  This time, you'll implement the `one_hot_encode` function. The input, `x`, are a list of labels.  Implement the function to return the list of labels as One-Hot encoded Numpy array.  The possible values for labels are 0 to 9. The one-hot encoding function should return the same encoding for each value between each call to `one_hot_encode`.  Make sure to save the map of encodings outside the function.\n",
    "\n",
    "Hint: Don't reinvent the wheel."
   ]
  },
  {
   "cell_type": "code",
   "execution_count": 5,
   "metadata": {
    "collapsed": false,
    "deletable": true,
    "editable": true
   },
   "outputs": [
    {
     "name": "stdout",
     "output_type": "stream",
     "text": [
      "Tests Passed\n"
     ]
    }
   ],
   "source": [
    "def one_hot_encode(x):\n",
    "    \"\"\"\n",
    "    One hot encode a list of sample labels. Return a one-hot encoded vector for each label.\n",
    "    : x: List of sample Labels\n",
    "    : return: Numpy array of one-hot encoded labels\n",
    "    \"\"\"\n",
    "    # TODO: Implement Function\n",
    "    one_hot = np.zeros(shape=[len(x), 10])\n",
    "    for i, label_id in enumerate(x):\n",
    "        one_hot[i, label_id] = True\n",
    "    return one_hot\n",
    "\n",
    "one_hot_encoding_map = {0:'airplane', 1:'automobile', 2:'bird', 3:'cat', 4:'deer', 5:'dog', 6:'frog', 7:'horse',\\\n",
    "               8:'ship', 9:'truck'}\n",
    "\"\"\"\n",
    "DON'T MODIFY ANYTHING IN THIS CELL THAT IS BELOW THIS LINE\n",
    "\"\"\"\n",
    "tests.test_one_hot_encode(one_hot_encode)"
   ]
  },
  {
   "cell_type": "markdown",
   "metadata": {
    "deletable": true,
    "editable": true
   },
   "source": [
    "### Randomize Data\n",
    "As you saw from exploring the data above, the order of the samples are randomized.  It doesn't hurt to randomize it again, but you don't need to for this dataset."
   ]
  },
  {
   "cell_type": "markdown",
   "metadata": {
    "deletable": true,
    "editable": true
   },
   "source": [
    "## Preprocess all the data and save it\n",
    "Running the code cell below will preprocess all the CIFAR-10 data and save it to file. The code below also uses 10% of the training data for validation."
   ]
  },
  {
   "cell_type": "code",
   "execution_count": 6,
   "metadata": {
    "collapsed": false,
    "deletable": true,
    "editable": true
   },
   "outputs": [],
   "source": [
    "\"\"\"\n",
    "DON'T MODIFY ANYTHING IN THIS CELL\n",
    "\"\"\"\n",
    "# Preprocess Training, Validation, and Testing Data\n",
    "helper.preprocess_and_save_data(cifar10_dataset_folder_path, normalize, one_hot_encode)"
   ]
  },
  {
   "cell_type": "markdown",
   "metadata": {
    "deletable": true,
    "editable": true
   },
   "source": [
    "# Check Point\n",
    "This is your first checkpoint.  If you ever decide to come back to this notebook or have to restart the notebook, you can start from here.  The preprocessed data has been saved to disk."
   ]
  },
  {
   "cell_type": "code",
   "execution_count": 7,
   "metadata": {
    "collapsed": false,
    "deletable": true,
    "editable": true
   },
   "outputs": [],
   "source": [
    "\"\"\"\n",
    "DON'T MODIFY ANYTHING IN THIS CELL\n",
    "\"\"\"\n",
    "import pickle\n",
    "import problem_unittests as tests\n",
    "import helper\n",
    "\n",
    "# Load the Preprocessed Validation data\n",
    "valid_features, valid_labels = pickle.load(open('preprocess_validation.p', mode='rb'))"
   ]
  },
  {
   "cell_type": "markdown",
   "metadata": {
    "deletable": true,
    "editable": true
   },
   "source": [
    "## Build the network\n",
    "For the neural network, you'll build each layer into a function.  Most of the code you've seen has been outside of functions. To test your code more thoroughly, we require that you put each layer in a function.  This allows us to give you better feedback and test for simple mistakes using our unittests before you submit your project.\n",
    "\n",
    "If you're finding it hard to dedicate enough time for this course a week, we've provided a small shortcut to this part of the project. In the next couple of problems, you'll have the option to use [TensorFlow Layers](https://www.tensorflow.org/api_docs/python/tf/layers) or [TensorFlow Layers (contrib)](https://www.tensorflow.org/api_guides/python/contrib.layers) to build each layer, except \"Convolutional & Max Pooling\" layer.  TF Layers is similar to Keras's and TFLearn's abstraction to layers, so it's easy to pickup.\n",
    "\n",
    "If you would like to get the most of this course, try to solve all the problems without TF Layers.  Let's begin!\n",
    "### Input\n",
    "The neural network needs to read the image data, one-hot encoded labels, and dropout keep probability. Implement the following functions\n",
    "* Implement `neural_net_image_input`\n",
    " * Return a [TF Placeholder](https://www.tensorflow.org/api_docs/python/tf/placeholder)\n",
    " * Set the shape using `image_shape` with batch size set to `None`.\n",
    " * Name the TensorFlow placeholder \"x\" using the TensorFlow `name` parameter in the [TF Placeholder](https://www.tensorflow.org/api_docs/python/tf/placeholder).\n",
    "* Implement `neural_net_label_input`\n",
    " * Return a [TF Placeholder](https://www.tensorflow.org/api_docs/python/tf/placeholder)\n",
    " * Set the shape using `n_classes` with batch size set to `None`.\n",
    " * Name the TensorFlow placeholder \"y\" using the TensorFlow `name` parameter in the [TF Placeholder](https://www.tensorflow.org/api_docs/python/tf/placeholder).\n",
    "* Implement `neural_net_keep_prob_input`\n",
    " * Return a [TF Placeholder](https://www.tensorflow.org/api_docs/python/tf/placeholder) for dropout keep probability.\n",
    " * Name the TensorFlow placeholder \"keep_prob\" using the TensorFlow `name` parameter in the [TF Placeholder](https://www.tensorflow.org/api_docs/python/tf/placeholder).\n",
    "\n",
    "These names will be used at the end of the project to load your saved model.\n",
    "\n",
    "Note: `None` for shapes in TensorFlow allow for a dynamic size."
   ]
  },
  {
   "cell_type": "code",
   "execution_count": 21,
   "metadata": {
    "collapsed": false,
    "deletable": true,
    "editable": true
   },
   "outputs": [
    {
     "name": "stdout",
     "output_type": "stream",
     "text": [
      "Image Input Tests Passed.\n",
      "Label Input Tests Passed.\n",
      "Keep Prob Tests Passed.\n"
     ]
    }
   ],
   "source": [
    "import tensorflow as tf\n",
    "\n",
    "def neural_net_image_input(image_shape):\n",
    "    \"\"\"\n",
    "    Return a Tensor for a bach of image input\n",
    "    : image_shape: Shape of the images\n",
    "    : return: Tensor for image input.\n",
    "    \"\"\"\n",
    "    # TODO: Implement Function\n",
    "    image_input = tf.placeholder(tf.float32, shape=(None, image_shape[0], image_shape[1], image_shape[2]), name='x')\n",
    "    return image_input\n",
    "\n",
    "\n",
    "def neural_net_label_input(n_classes):\n",
    "    \"\"\"\n",
    "    Return a Tensor for a batch of label input\n",
    "    : n_classes: Number of classes\n",
    "    : return: Tensor for label input.\n",
    "    \"\"\"\n",
    "    # TODO: Implement Function\n",
    "    label_input = tf.placeholder(tf.float32, shape=(None, n_classes), name='y')\n",
    "    return label_input\n",
    "\n",
    "\n",
    "def neural_net_keep_prob_input():\n",
    "    \"\"\"\n",
    "    Return a Tensor for keep probability\n",
    "    : return: Tensor for keep probability.\n",
    "    \"\"\"\n",
    "    # TODO: Implement Function\n",
    "    keep_prob_input = tf.placeholder(tf.float32, name='keep_prob')\n",
    "    return keep_prob_input\n",
    "\n",
    "\n",
    "\"\"\"\n",
    "DON'T MODIFY ANYTHING IN THIS CELL THAT IS BELOW THIS LINE\n",
    "\"\"\"\n",
    "tf.reset_default_graph()\n",
    "tests.test_nn_image_inputs(neural_net_image_input)\n",
    "tests.test_nn_label_inputs(neural_net_label_input)\n",
    "tests.test_nn_keep_prob_inputs(neural_net_keep_prob_input)"
   ]
  },
  {
   "cell_type": "markdown",
   "metadata": {
    "deletable": true,
    "editable": true
   },
   "source": [
    "### Convolution and Max Pooling Layer\n",
    "Convolution layers have a lot of success with images. For this code cell, you should implement the function `conv2d_maxpool` to apply convolution then max pooling:\n",
    "* Create the weight and bias using `conv_ksize`, `conv_num_outputs` and the shape of `x_tensor`.\n",
    "* Apply a convolution to `x_tensor` using weight and `conv_strides`.\n",
    " * We recommend you use same padding, but you're welcome to use any padding.\n",
    "* Add bias\n",
    "* Add a nonlinear activation to the convolution.\n",
    "* Apply Max Pooling using `pool_ksize` and `pool_strides`.\n",
    " * We recommend you use same padding, but you're welcome to use any padding.\n",
    "\n",
    "Note: You **can't** use [TensorFlow Layers](https://www.tensorflow.org/api_docs/python/tf/layers) or [TensorFlow Layers (contrib)](https://www.tensorflow.org/api_guides/python/contrib.layers) for this layer.  You're free to use any TensorFlow package for all the other layers."
   ]
  },
  {
   "cell_type": "code",
   "execution_count": 22,
   "metadata": {
    "collapsed": false,
    "deletable": true,
    "editable": true
   },
   "outputs": [
    {
     "name": "stdout",
     "output_type": "stream",
     "text": [
      "Conv_ksize:  (2, 2)  Conv_strides:  (4, 4)  Conv output depth: 10 [None, 32, 32, 5]  Pool ksize:  (2, 2)  Pool strides:  (2, 2)\n",
      "Tests Passed\n"
     ]
    }
   ],
   "source": [
    "def conv2d_maxpool(x_tensor, conv_num_outputs, conv_ksize, conv_strides, pool_ksize, pool_strides):\n",
    "    \"\"\"\n",
    "    Apply convolution then max pooling to x_tensor\n",
    "    :param x_tensor: TensorFlow Tensor\n",
    "    :param conv_num_outputs: Number of outputs for the convolutional layer\n",
    "    :param conv_strides: Stride 2-D Tuple for convolution\n",
    "    :param pool_ksize: kernal size 2-D Tuple for pool\n",
    "    :param pool_strides: Stride 2-D Tuple for pool\n",
    "    : return: A tensor that represents convolution and max pooling of x_tensor\n",
    "    \"\"\"\n",
    "    # TODO: Implement Function\n",
    "    print('Conv_ksize: ', conv_ksize, ' Conv_strides: ', conv_strides, ' Conv output depth:', conv_num_outputs, \\\n",
    "          x_tensor.get_shape().as_list(), ' Pool ksize: ', pool_ksize, ' Pool strides: ', pool_strides)\n",
    "    #Convolution and max pool Parameters\n",
    "    input_depth = x_tensor.get_shape().as_list()[3]\n",
    "    output_depth = conv_num_outputs\n",
    "    weight = tf.Variable(tf.truncated_normal([conv_ksize[0], conv_ksize[1], input_depth, output_depth], mean=0.0, stddev=0.08))\n",
    "    biases = tf.Variable(tf.zeros(output_depth))\n",
    "    strides = [1, conv_strides[0], conv_strides[1], 1]\n",
    "    pool_strides = [1, pool_strides[0], pool_strides[1], 1]\n",
    "    \n",
    "    #Convolution & Max pool\n",
    "    conv2d_1 = tf.nn.conv2d(x_tensor, weight, strides, padding='SAME')\n",
    "    conv2d_1 = tf.nn.bias_add(conv2d_1, biases)\n",
    "    conv2d_1 = tf.nn.relu(conv2d_1)\n",
    "    conv2d_1 = tf.nn.max_pool(conv2d_1, [1, pool_ksize[0], pool_ksize[1], 1], pool_strides, padding='SAME')\n",
    "    return conv2d_1\n",
    "\n",
    "\n",
    "\"\"\"\n",
    "DON'T MODIFY ANYTHING IN THIS CELL THAT IS BELOW THIS LINE\n",
    "\"\"\"\n",
    "tests.test_con_pool(conv2d_maxpool)"
   ]
  },
  {
   "cell_type": "markdown",
   "metadata": {
    "deletable": true,
    "editable": true
   },
   "source": [
    "### Flatten Layer\n",
    "Implement the `flatten` function to change the dimension of `x_tensor` from a 4-D tensor to a 2-D tensor.  The output should be the shape (*Batch Size*, *Flattened Image Size*). You can use [TensorFlow Layers](https://www.tensorflow.org/api_docs/python/tf/layers) or [TensorFlow Layers (contrib)](https://www.tensorflow.org/api_guides/python/contrib.layers) for this layer."
   ]
  },
  {
   "cell_type": "code",
   "execution_count": 23,
   "metadata": {
    "collapsed": false,
    "deletable": true,
    "editable": true
   },
   "outputs": [
    {
     "name": "stdout",
     "output_type": "stream",
     "text": [
      "Tests Passed\n"
     ]
    }
   ],
   "source": [
    "def flatten(x_tensor):\n",
    "    \"\"\"\n",
    "    Flatten x_tensor to (Batch Size, Flattened Image Size)\n",
    "    : x_tensor: A tensor of size (Batch Size, ...), where ... are the image dimensions.\n",
    "    : return: A tensor of size (Batch Size, Flattened Image Size).\n",
    "    \"\"\"\n",
    "    # TODO: Implement Function\n",
    "    #print(x_tensor.get_shape().as_list()[3])\n",
    "    #print(x_tensor.get_shape().as_list())\n",
    "    h = x_tensor.get_shape().as_list()[1]\n",
    "    w = x_tensor.get_shape().as_list()[2]\n",
    "    d = x_tensor.get_shape().as_list()[3]\n",
    "    flattened_tensor = tf.reshape(x_tensor, [-1, h*w*d])\n",
    "    #print(flattened_tensor.get_shape().as_list())\n",
    "    return flattened_tensor\n",
    "\n",
    "\n",
    "\"\"\"\n",
    "DON'T MODIFY ANYTHING IN THIS CELL THAT IS BELOW THIS LINE\n",
    "\"\"\"\n",
    "tests.test_flatten(flatten)"
   ]
  },
  {
   "cell_type": "markdown",
   "metadata": {
    "deletable": true,
    "editable": true
   },
   "source": [
    "### Fully-Connected Layer\n",
    "Implement the `fully_conn` function to apply a fully connected layer to `x_tensor` with the shape (*Batch Size*, *num_outputs*). You can use [TensorFlow Layers](https://www.tensorflow.org/api_docs/python/tf/layers) or [TensorFlow Layers (contrib)](https://www.tensorflow.org/api_guides/python/contrib.layers) for this layer."
   ]
  },
  {
   "cell_type": "code",
   "execution_count": 24,
   "metadata": {
    "collapsed": false,
    "deletable": true,
    "editable": true
   },
   "outputs": [
    {
     "name": "stdout",
     "output_type": "stream",
     "text": [
      "Tests Passed\n"
     ]
    }
   ],
   "source": [
    "def fully_conn(x_tensor, num_outputs):\n",
    "    \"\"\"\n",
    "    Apply a fully connected layer to x_tensor using weight and bias\n",
    "    : x_tensor: A 2-D tensor where the first dimension is batch size.\n",
    "    : num_outputs: The number of output that the new tensor should be.\n",
    "    : return: A 2-D tensor where the second dimension is num_outputs.\n",
    "    \"\"\"\n",
    "    # TODO: Implement Function\n",
    "    weight_rows = x_tensor.get_shape().as_list()[1]\n",
    "    weight = tf.Variable(tf.truncated_normal([weight_rows, num_outputs], mean=0.0, stddev=0.08))\n",
    "    biases = tf.Variable(tf.truncated_normal([num_outputs]))\n",
    "    fc1 = tf.add(tf.matmul(x_tensor, weight), biases)\n",
    "    fc1 = tf.nn.relu(fc1)\n",
    "    return fc1\n",
    "\n",
    "\n",
    "\"\"\"\n",
    "DON'T MODIFY ANYTHING IN THIS CELL THAT IS BELOW THIS LINE\n",
    "\"\"\"\n",
    "tests.test_fully_conn(fully_conn)"
   ]
  },
  {
   "cell_type": "markdown",
   "metadata": {
    "deletable": true,
    "editable": true
   },
   "source": [
    "### Output Layer\n",
    "Implement the `output` function to apply a fully connected layer to `x_tensor` with the shape (*Batch Size*, *num_outputs*). You can use [TensorFlow Layers](https://www.tensorflow.org/api_docs/python/tf/layers) or [TensorFlow Layers (contrib)](https://www.tensorflow.org/api_guides/python/contrib.layers) for this layer.\n",
    "\n",
    "Note: Activation, softmax, or cross entropy shouldn't be applied to this."
   ]
  },
  {
   "cell_type": "code",
   "execution_count": 37,
   "metadata": {
    "collapsed": false,
    "deletable": true,
    "editable": true
   },
   "outputs": [
    {
     "name": "stdout",
     "output_type": "stream",
     "text": [
      "Tests Passed\n"
     ]
    }
   ],
   "source": [
    "def output(x_tensor, num_outputs):\n",
    "    \"\"\"\n",
    "    Apply a output layer to x_tensor using weight and bias\n",
    "    : x_tensor: A 2-D tensor where the first dimension is batch size.\n",
    "    : num_outputs: The number of output that the new tensor should be.\n",
    "    : return: A 2-D tensor where the second dimension is num_outputs.\n",
    "    \"\"\"\n",
    "    # TODO: Implement Function\n",
    "    weight = tf.Variable(tf.truncated_normal([x_tensor.get_shape().as_list()[1], num_outputs], mean=0.0, stddev=0.08))\n",
    "    biases = tf.Variable(tf.zeros([num_outputs]))\n",
    "    out = tf.add(tf.matmul(x_tensor, weight), biases)\n",
    "    return out\n",
    "\n",
    "\n",
    "\"\"\"\n",
    "DON'T MODIFY ANYTHING IN THIS CELL THAT IS BELOW THIS LINE\n",
    "\"\"\"\n",
    "tests.test_output(output)"
   ]
  },
  {
   "cell_type": "markdown",
   "metadata": {
    "deletable": true,
    "editable": true
   },
   "source": [
    "### Create Convolutional Model\n",
    "Implement the function `conv_net` to create a convolutional neural network model. The function takes in a batch of images, `x`, and outputs logits.  Use the layers you created above to create this model:\n",
    "\n",
    "* Apply 1, 2, or 3 Convolution and Max Pool layers\n",
    "* Apply a Flatten Layer\n",
    "* Apply 1, 2, or 3 Fully Connected Layers\n",
    "* Apply an Output Layer\n",
    "* Return the output\n",
    "* Apply [TensorFlow's Dropout](https://www.tensorflow.org/api_docs/python/tf/nn/dropout) to one or more layers in the model using `keep_prob`. "
   ]
  },
  {
   "cell_type": "code",
   "execution_count": 230,
   "metadata": {
    "collapsed": false,
    "deletable": true,
    "editable": true
   },
   "outputs": [
    {
     "name": "stdout",
     "output_type": "stream",
     "text": [
      "Conv_ksize:  (5, 5)  Conv_strides:  (1, 1)  Conv output depth: 10 [None, 32, 32, 3]  Pool ksize:  (2, 2)  Pool strides:  (2, 2)\n",
      "Conv_ksize:  (5, 5)  Conv_strides:  (1, 1)  Conv output depth: 32 [None, 16, 16, 10]  Pool ksize:  (2, 2)  Pool strides:  (2, 2)\n",
      "Conv_ksize:  (4, 4)  Conv_strides:  (1, 1)  Conv output depth: 64 [None, 8, 8, 32]  Pool ksize:  (2, 2)  Pool strides:  (2, 2)\n",
      "Conv_ksize:  (5, 5)  Conv_strides:  (1, 1)  Conv output depth: 10 [None, 32, 32, 3]  Pool ksize:  (2, 2)  Pool strides:  (2, 2)\n",
      "Conv_ksize:  (5, 5)  Conv_strides:  (1, 1)  Conv output depth: 32 [None, 16, 16, 10]  Pool ksize:  (2, 2)  Pool strides:  (2, 2)\n",
      "Conv_ksize:  (4, 4)  Conv_strides:  (1, 1)  Conv output depth: 64 [None, 8, 8, 32]  Pool ksize:  (2, 2)  Pool strides:  (2, 2)\n",
      "Neural Network Built!\n"
     ]
    }
   ],
   "source": [
    "def conv_net(x, keep_prob):\n",
    "    \"\"\"\n",
    "    Create a convolutional neural network model\n",
    "    : x: Placeholder tensor that holds image data.\n",
    "    : keep_prob: Placeholder tensor that hold dropout keep probability.\n",
    "    : return: Tensor that represents logits\n",
    "    \"\"\"\n",
    "    # TODO: Apply 1, 2, or 3 Convolution and Max Pool layers\n",
    "    #    Play around with different number of outputs, kernel size and stride\n",
    "    # Function Definition from Above:\n",
    "    #    conv2d_maxpool(x_tensor, conv_num_outputs, conv_ksize, conv_strides, pool_ksize, pool_strides)\n",
    "    conv2d_1 = conv2d_maxpool(x, 10, (5, 5), (1, 1), (2, 2), (2, 2))\n",
    "    conv2d_2 = conv2d_maxpool(conv2d_1, 32, (5, 5), (1, 1), (2, 2), (2, 2))\n",
    "    conv2d_3 = conv2d_maxpool(conv2d_2, 64, (4, 4), (1, 1), (2, 2), (2, 2))\n",
    "    #conv2d_4 = conv2d_maxpool(conv2d_3, 128, (3, 3), (1, 1), (2, 2), (2, 2))\n",
    "    \n",
    "\n",
    "    # TODO: Apply a Flatten Layer\n",
    "    # Function Definition from Above:\n",
    "    #   flatten(x_tensor)\n",
    "    flattened_tensor = flatten(conv2d_3)\n",
    "    \n",
    "\n",
    "    # TODO: Apply 1, 2, or 3 Fully Connected Layers\n",
    "    #    Play around with different number of outputs\n",
    "    # Function Definition from Above:\n",
    "    #   fully_conn(x_tensor, num_outputs)\n",
    "    fc1 = fully_conn(flattened_tensor, 128)\n",
    "    fc1 = tf.nn.dropout(fc1, keep_prob)\n",
    "    #fc2 = fully_conn(fc1, 32)\n",
    "    #fc2 = tf.nn.dropout(fc2, keep_prob)\n",
    "    #fc3 = fully_conn(fc2, 1024)\n",
    "    #fc3 = tf.nn.dropout(fc3, keep_prob)\n",
    "    \n",
    "    # TODO: Apply an Output Layer\n",
    "    #    Set this to the number of classes\n",
    "    # Function Definition from Above:\n",
    "    #   output(x_tensor, num_outputs)\n",
    "    logits = output(fc1, 10)\n",
    "    \n",
    "    # TODO: return output\n",
    "    return logits\n",
    "\n",
    "\n",
    "\"\"\"\n",
    "DON'T MODIFY ANYTHING IN THIS CELL THAT IS BELOW THIS LINE\n",
    "\"\"\"\n",
    "\n",
    "##############################\n",
    "## Build the Neural Network ##\n",
    "##############################\n",
    "\n",
    "# Remove previous weights, bias, inputs, etc..\n",
    "tf.reset_default_graph()\n",
    "\n",
    "# Inputs\n",
    "x = neural_net_image_input((32, 32, 3))\n",
    "y = neural_net_label_input(10)\n",
    "keep_prob = neural_net_keep_prob_input()\n",
    "\n",
    "# Model\n",
    "logits = conv_net(x, keep_prob)\n",
    "\n",
    "# Name logits Tensor, so that is can be loaded from disk after training\n",
    "logits = tf.identity(logits, name='logits')\n",
    "\n",
    "# Loss and Optimizer\n",
    "cost = tf.reduce_mean(tf.nn.softmax_cross_entropy_with_logits(logits=logits, labels=y))\n",
    "optimizer = tf.train.AdamOptimizer().minimize(cost)\n",
    "\n",
    "# Accuracy\n",
    "correct_pred = tf.equal(tf.argmax(logits, 1), tf.argmax(y, 1))\n",
    "accuracy = tf.reduce_mean(tf.cast(correct_pred, tf.float32), name='accuracy')\n",
    "\n",
    "tests.test_conv_net(conv_net)"
   ]
  },
  {
   "cell_type": "markdown",
   "metadata": {
    "deletable": true,
    "editable": true
   },
   "source": [
    "## Train the Neural Network\n",
    "### Single Optimization\n",
    "Implement the function `train_neural_network` to do a single optimization.  The optimization should use `optimizer` to optimize in `session` with a `feed_dict` of the following:\n",
    "* `x` for image input\n",
    "* `y` for labels\n",
    "* `keep_prob` for keep probability for dropout\n",
    "\n",
    "This function will be called for each batch, so `tf.global_variables_initializer()` has already been called.\n",
    "\n",
    "Note: Nothing needs to be returned. This function is only optimizing the neural network."
   ]
  },
  {
   "cell_type": "code",
   "execution_count": 231,
   "metadata": {
    "collapsed": false,
    "deletable": true,
    "editable": true
   },
   "outputs": [
    {
     "name": "stdout",
     "output_type": "stream",
     "text": [
      "Tests Passed\n"
     ]
    }
   ],
   "source": [
    "def train_neural_network(session, optimizer, keep_probability, feature_batch, label_batch):\n",
    "    \"\"\"\n",
    "    Optimize the session on a batch of images and labels\n",
    "    : session: Current TensorFlow session\n",
    "    : optimizer: TensorFlow optimizer function\n",
    "    : keep_probability: keep probability\n",
    "    : feature_batch: Batch of Numpy image data\n",
    "    : label_batch: Batch of Numpy label data\n",
    "    \"\"\"\n",
    "    # TODO: Implement Function\n",
    "    session.run(optimizer, feed_dict={ x: feature_batch, y: label_batch, keep_prob: keep_probability})\n",
    "\n",
    "\n",
    "\"\"\"\n",
    "DON'T MODIFY ANYTHING IN THIS CELL THAT IS BELOW THIS LINE\n",
    "\"\"\"\n",
    "tests.test_train_nn(train_neural_network)"
   ]
  },
  {
   "cell_type": "markdown",
   "metadata": {
    "deletable": true,
    "editable": true
   },
   "source": [
    "### Show Stats\n",
    "Implement the function `print_stats` to print loss and validation accuracy.  Use the global variables `valid_features` and `valid_labels` to calculate validation accuracy.  Use a keep probability of `1.0` to calculate the loss and validation accuracy."
   ]
  },
  {
   "cell_type": "code",
   "execution_count": 232,
   "metadata": {
    "collapsed": false,
    "deletable": true,
    "editable": true
   },
   "outputs": [],
   "source": [
    "def print_stats(session, feature_batch, label_batch, cost, accuracy):\n",
    "    \"\"\"\n",
    "    Print information about loss and validation accuracy\n",
    "    : session: Current TensorFlow session\n",
    "    : feature_batch: Batch of Numpy image data\n",
    "    : label_batch: Batch of Numpy label data\n",
    "    : cost: TensorFlow cost function\n",
    "    : accuracy: TensorFlow accuracy function\n",
    "    \"\"\"\n",
    "    # TODO: Implement Function\n",
    "    loss = session.run(cost, feed_dict={x: feature_batch, y: label_batch, keep_prob: 1.0})\n",
    "    valid_accuracy = session.run(accuracy, feed_dict={x: valid_features, y: valid_labels, keep_prob: 1.0})\n",
    "    print('Cost: ', loss)\n",
    "    print('Accuracy: ', valid_accuracy)"
   ]
  },
  {
   "cell_type": "markdown",
   "metadata": {
    "deletable": true,
    "editable": true
   },
   "source": [
    "### Hyperparameters\n",
    "Tune the following parameters:\n",
    "* Set `epochs` to the number of iterations until the network stops learning or start overfitting\n",
    "* Set `batch_size` to the highest number that your machine has memory for.  Most people set them to common sizes of memory:\n",
    " * 64\n",
    " * 128\n",
    " * 256\n",
    " * ...\n",
    "* Set `keep_probability` to the probability of keeping a node using dropout"
   ]
  },
  {
   "cell_type": "code",
   "execution_count": 233,
   "metadata": {
    "collapsed": true,
    "deletable": true,
    "editable": true
   },
   "outputs": [],
   "source": [
    "# TODO: Tune Parameters\n",
    "epochs = 20\n",
    "batch_size = 128\n",
    "keep_probability = 0.5"
   ]
  },
  {
   "cell_type": "markdown",
   "metadata": {
    "deletable": true,
    "editable": true
   },
   "source": [
    "### Train on a Single CIFAR-10 Batch\n",
    "Instead of training the neural network on all the CIFAR-10 batches of data, let's use a single batch. This should save time while you iterate on the model to get a better accuracy.  Once the final validation accuracy is 50% or greater, run the model on all the data in the next section."
   ]
  },
  {
   "cell_type": "code",
   "execution_count": 234,
   "metadata": {
    "collapsed": false,
    "deletable": true,
    "editable": true
   },
   "outputs": [
    {
     "name": "stdout",
     "output_type": "stream",
     "text": [
      "Checking the Training on a Single Batch...\n",
      "Epoch  1, CIFAR-10 Batch 1:  Cost:  1.99107\n",
      "Accuracy:  0.3068\n",
      "Epoch  2, CIFAR-10 Batch 1:  Cost:  1.79283\n",
      "Accuracy:  0.3598\n",
      "Epoch  3, CIFAR-10 Batch 1:  Cost:  1.66301\n",
      "Accuracy:  0.381\n",
      "Epoch  4, CIFAR-10 Batch 1:  Cost:  1.55164\n",
      "Accuracy:  0.3956\n",
      "Epoch  5, CIFAR-10 Batch 1:  Cost:  1.42447\n",
      "Accuracy:  0.4122\n",
      "Epoch  6, CIFAR-10 Batch 1:  Cost:  1.30094\n",
      "Accuracy:  0.4406\n",
      "Epoch  7, CIFAR-10 Batch 1:  Cost:  1.25874\n",
      "Accuracy:  0.4416\n",
      "Epoch  8, CIFAR-10 Batch 1:  Cost:  1.08185\n",
      "Accuracy:  0.4496\n",
      "Epoch  9, CIFAR-10 Batch 1:  Cost:  0.954351\n",
      "Accuracy:  0.4564\n",
      "Epoch 10, CIFAR-10 Batch 1:  Cost:  0.843187\n",
      "Accuracy:  0.4724\n",
      "Epoch 11, CIFAR-10 Batch 1:  Cost:  0.727189\n",
      "Accuracy:  0.4788\n",
      "Epoch 12, CIFAR-10 Batch 1:  Cost:  0.649528\n",
      "Accuracy:  0.4708\n",
      "Epoch 13, CIFAR-10 Batch 1:  Cost:  0.54722\n",
      "Accuracy:  0.4784\n",
      "Epoch 14, CIFAR-10 Batch 1:  Cost:  0.44623\n",
      "Accuracy:  0.4878\n",
      "Epoch 15, CIFAR-10 Batch 1:  Cost:  0.385587\n",
      "Accuracy:  0.4812\n",
      "Epoch 16, CIFAR-10 Batch 1:  Cost:  0.363102\n",
      "Accuracy:  0.4894\n",
      "Epoch 17, CIFAR-10 Batch 1:  Cost:  0.294181\n",
      "Accuracy:  0.4846\n",
      "Epoch 18, CIFAR-10 Batch 1:  Cost:  0.234802\n",
      "Accuracy:  0.4834\n",
      "Epoch 19, CIFAR-10 Batch 1:  Cost:  0.19314\n",
      "Accuracy:  0.4936\n",
      "Epoch 20, CIFAR-10 Batch 1:  Cost:  0.146549\n",
      "Accuracy:  0.4934\n"
     ]
    }
   ],
   "source": [
    "\"\"\"\n",
    "DON'T MODIFY ANYTHING IN THIS CELL\n",
    "\"\"\"\n",
    "print('Checking the Training on a Single Batch...')\n",
    "with tf.Session() as sess:\n",
    "    # Initializing the variables\n",
    "    sess.run(tf.global_variables_initializer())\n",
    "    \n",
    "    # Training cycle\n",
    "    for epoch in range(epochs):\n",
    "        batch_i = 1\n",
    "        for batch_features, batch_labels in helper.load_preprocess_training_batch(batch_i, batch_size):\n",
    "            train_neural_network(sess, optimizer, keep_probability, batch_features, batch_labels)\n",
    "        print('Epoch {:>2}, CIFAR-10 Batch {}:  '.format(epoch + 1, batch_i), end='')\n",
    "        print_stats(sess, batch_features, batch_labels, cost, accuracy)"
   ]
  },
  {
   "cell_type": "markdown",
   "metadata": {
    "deletable": true,
    "editable": true
   },
   "source": [
    "### Fully Train the Model\n",
    "Now that you got a good accuracy with a single CIFAR-10 batch, try it with all five batches."
   ]
  },
  {
   "cell_type": "code",
   "execution_count": 236,
   "metadata": {
    "collapsed": false,
    "deletable": true,
    "editable": true
   },
   "outputs": [
    {
     "name": "stdout",
     "output_type": "stream",
     "text": [
      "Training...\n",
      "Epoch  1, CIFAR-10 Batch 1:  Cost:  2.01268\n",
      "Accuracy:  0.2952\n",
      "Epoch  1, CIFAR-10 Batch 2:  Cost:  1.90263\n",
      "Accuracy:  0.3502\n",
      "Epoch  1, CIFAR-10 Batch 3:  Cost:  1.59412\n",
      "Accuracy:  0.3826\n",
      "Epoch  1, CIFAR-10 Batch 4:  Cost:  1.50003\n",
      "Accuracy:  0.413\n",
      "Epoch  1, CIFAR-10 Batch 5:  Cost:  1.68283\n",
      "Accuracy:  0.4254\n",
      "Epoch  2, CIFAR-10 Batch 1:  Cost:  1.56622\n",
      "Accuracy:  0.437\n",
      "Epoch  2, CIFAR-10 Batch 2:  Cost:  1.51695\n",
      "Accuracy:  0.4474\n",
      "Epoch  2, CIFAR-10 Batch 3:  Cost:  1.30778\n",
      "Accuracy:  0.45\n",
      "Epoch  2, CIFAR-10 Batch 4:  Cost:  1.2965\n",
      "Accuracy:  0.4708\n",
      "Epoch  2, CIFAR-10 Batch 5:  Cost:  1.38336\n",
      "Accuracy:  0.4804\n",
      "Epoch  3, CIFAR-10 Batch 1:  Cost:  1.39024\n",
      "Accuracy:  0.4904\n",
      "Epoch  3, CIFAR-10 Batch 2:  Cost:  1.28452\n",
      "Accuracy:  0.4944\n",
      "Epoch  3, CIFAR-10 Batch 3:  Cost:  1.24353\n",
      "Accuracy:  0.506\n",
      "Epoch  3, CIFAR-10 Batch 4:  Cost:  1.17826\n",
      "Accuracy:  0.5156\n",
      "Epoch  3, CIFAR-10 Batch 5:  Cost:  1.23584\n",
      "Accuracy:  0.5102\n",
      "Epoch  4, CIFAR-10 Batch 1:  Cost:  1.29944\n",
      "Accuracy:  0.5216\n",
      "Epoch  4, CIFAR-10 Batch 2:  Cost:  1.17515\n",
      "Accuracy:  0.5164\n",
      "Epoch  4, CIFAR-10 Batch 3:  Cost:  1.04679\n",
      "Accuracy:  0.5252\n",
      "Epoch  4, CIFAR-10 Batch 4:  Cost:  1.06245\n",
      "Accuracy:  0.5334\n",
      "Epoch  4, CIFAR-10 Batch 5:  Cost:  1.10689\n",
      "Accuracy:  0.5498\n",
      "Epoch  5, CIFAR-10 Batch 1:  Cost:  1.1048\n",
      "Accuracy:  0.5468\n",
      "Epoch  5, CIFAR-10 Batch 2:  Cost:  0.991452\n",
      "Accuracy:  0.547\n",
      "Epoch  5, CIFAR-10 Batch 3:  Cost:  0.936597\n",
      "Accuracy:  0.542\n",
      "Epoch  5, CIFAR-10 Batch 4:  Cost:  0.923494\n",
      "Accuracy:  0.549\n",
      "Epoch  5, CIFAR-10 Batch 5:  Cost:  1.0704\n",
      "Accuracy:  0.5456\n",
      "Epoch  6, CIFAR-10 Batch 1:  Cost:  0.965446\n",
      "Accuracy:  0.5694\n",
      "Epoch  6, CIFAR-10 Batch 2:  Cost:  0.891964\n",
      "Accuracy:  0.5664\n",
      "Epoch  6, CIFAR-10 Batch 3:  Cost:  0.744181\n",
      "Accuracy:  0.56\n",
      "Epoch  6, CIFAR-10 Batch 4:  Cost:  0.911988\n",
      "Accuracy:  0.564\n",
      "Epoch  6, CIFAR-10 Batch 5:  Cost:  0.906696\n",
      "Accuracy:  0.5438\n",
      "Epoch  7, CIFAR-10 Batch 1:  Cost:  0.8456\n",
      "Accuracy:  0.5716\n",
      "Epoch  7, CIFAR-10 Batch 2:  Cost:  0.808049\n",
      "Accuracy:  0.5746\n",
      "Epoch  7, CIFAR-10 Batch 3:  Cost:  0.666155\n",
      "Accuracy:  0.5556\n",
      "Epoch  7, CIFAR-10 Batch 4:  Cost:  0.779956\n",
      "Accuracy:  0.5484\n",
      "Epoch  7, CIFAR-10 Batch 5:  Cost:  0.803106\n",
      "Accuracy:  0.5738\n",
      "Epoch  8, CIFAR-10 Batch 1:  Cost:  0.73767\n",
      "Accuracy:  0.578\n",
      "Epoch  8, CIFAR-10 Batch 2:  Cost:  0.686338\n",
      "Accuracy:  0.5722\n",
      "Epoch  8, CIFAR-10 Batch 3:  Cost:  0.575964\n",
      "Accuracy:  0.5688\n",
      "Epoch  8, CIFAR-10 Batch 4:  Cost:  0.717478\n",
      "Accuracy:  0.5728\n",
      "Epoch  8, CIFAR-10 Batch 5:  Cost:  0.695951\n",
      "Accuracy:  0.5832\n",
      "Epoch  9, CIFAR-10 Batch 1:  Cost:  0.677582\n",
      "Accuracy:  0.5778\n",
      "Epoch  9, CIFAR-10 Batch 2:  Cost:  0.658761\n",
      "Accuracy:  0.5706\n",
      "Epoch  9, CIFAR-10 Batch 3:  Cost:  0.526436\n",
      "Accuracy:  0.5796\n",
      "Epoch  9, CIFAR-10 Batch 4:  Cost:  0.655224\n",
      "Accuracy:  0.5634\n",
      "Epoch  9, CIFAR-10 Batch 5:  Cost:  0.660005\n",
      "Accuracy:  0.5764\n",
      "Epoch 10, CIFAR-10 Batch 1:  Cost:  0.577275\n",
      "Accuracy:  0.5866\n",
      "Epoch 10, CIFAR-10 Batch 2:  Cost:  0.58842\n",
      "Accuracy:  0.591\n",
      "Epoch 10, CIFAR-10 Batch 3:  Cost:  0.494051\n",
      "Accuracy:  0.5884\n",
      "Epoch 10, CIFAR-10 Batch 4:  Cost:  0.552152\n",
      "Accuracy:  0.575\n",
      "Epoch 10, CIFAR-10 Batch 5:  Cost:  0.563197\n",
      "Accuracy:  0.558\n",
      "Epoch 11, CIFAR-10 Batch 1:  Cost:  0.548056\n",
      "Accuracy:  0.5912\n",
      "Epoch 11, CIFAR-10 Batch 2:  Cost:  0.542556\n",
      "Accuracy:  0.599\n",
      "Epoch 11, CIFAR-10 Batch 3:  Cost:  0.480288\n",
      "Accuracy:  0.5792\n",
      "Epoch 11, CIFAR-10 Batch 4:  Cost:  0.511543\n",
      "Accuracy:  0.585\n",
      "Epoch 11, CIFAR-10 Batch 5:  Cost:  0.518859\n",
      "Accuracy:  0.5662\n",
      "Epoch 12, CIFAR-10 Batch 1:  Cost:  0.501248\n",
      "Accuracy:  0.5872\n",
      "Epoch 12, CIFAR-10 Batch 2:  Cost:  0.472851\n",
      "Accuracy:  0.5974\n",
      "Epoch 12, CIFAR-10 Batch 3:  Cost:  0.412433\n",
      "Accuracy:  0.5836\n",
      "Epoch 12, CIFAR-10 Batch 4:  Cost:  0.469952\n",
      "Accuracy:  0.5888\n",
      "Epoch 12, CIFAR-10 Batch 5:  Cost:  0.492659\n",
      "Accuracy:  0.5834\n",
      "Epoch 13, CIFAR-10 Batch 1:  Cost:  0.44699\n",
      "Accuracy:  0.5868\n",
      "Epoch 13, CIFAR-10 Batch 2:  Cost:  0.426069\n",
      "Accuracy:  0.5948\n",
      "Epoch 13, CIFAR-10 Batch 3:  Cost:  0.376601\n",
      "Accuracy:  0.5948\n",
      "Epoch 13, CIFAR-10 Batch 4:  Cost:  0.423972\n",
      "Accuracy:  0.5872\n",
      "Epoch 13, CIFAR-10 Batch 5:  Cost:  0.433637\n",
      "Accuracy:  0.5888\n",
      "Epoch 14, CIFAR-10 Batch 1:  Cost:  0.451915\n",
      "Accuracy:  0.5876\n",
      "Epoch 14, CIFAR-10 Batch 2:  Cost:  0.402806\n",
      "Accuracy:  0.5836\n",
      "Epoch 14, CIFAR-10 Batch 3:  Cost:  0.337979\n",
      "Accuracy:  0.5912\n",
      "Epoch 14, CIFAR-10 Batch 4:  Cost:  0.390357\n",
      "Accuracy:  0.5876\n",
      "Epoch 14, CIFAR-10 Batch 5:  Cost:  0.381864\n",
      "Accuracy:  0.5704\n",
      "Epoch 15, CIFAR-10 Batch 1:  Cost:  0.340821\n",
      "Accuracy:  0.584\n",
      "Epoch 15, CIFAR-10 Batch 2:  Cost:  0.387991\n",
      "Accuracy:  0.5922\n",
      "Epoch 15, CIFAR-10 Batch 3:  Cost:  0.333867\n",
      "Accuracy:  0.596\n",
      "Epoch 15, CIFAR-10 Batch 4:  Cost:  0.279891\n",
      "Accuracy:  0.596\n",
      "Epoch 15, CIFAR-10 Batch 5:  Cost:  0.375352\n",
      "Accuracy:  0.5748\n",
      "Epoch 16, CIFAR-10 Batch 1:  Cost:  0.348939\n",
      "Accuracy:  0.5878\n",
      "Epoch 16, CIFAR-10 Batch 2:  Cost:  0.368037\n",
      "Accuracy:  0.5928\n",
      "Epoch 16, CIFAR-10 Batch 3:  Cost:  0.286274\n",
      "Accuracy:  0.5856\n",
      "Epoch 16, CIFAR-10 Batch 4:  Cost:  0.305907\n",
      "Accuracy:  0.595\n",
      "Epoch 16, CIFAR-10 Batch 5:  Cost:  0.358037\n",
      "Accuracy:  0.571\n",
      "Epoch 17, CIFAR-10 Batch 1:  Cost:  0.328486\n",
      "Accuracy:  0.5872\n",
      "Epoch 17, CIFAR-10 Batch 2:  Cost:  0.337116\n",
      "Accuracy:  0.5878\n",
      "Epoch 17, CIFAR-10 Batch 3:  Cost:  0.261361\n",
      "Accuracy:  0.5888\n",
      "Epoch 17, CIFAR-10 Batch 4:  Cost:  0.262013\n",
      "Accuracy:  0.5906\n",
      "Epoch 17, CIFAR-10 Batch 5:  Cost:  0.31759\n",
      "Accuracy:  0.5722\n",
      "Epoch 18, CIFAR-10 Batch 1:  Cost:  0.252961\n",
      "Accuracy:  0.5872\n",
      "Epoch 18, CIFAR-10 Batch 2:  Cost:  0.363321\n",
      "Accuracy:  0.5896\n",
      "Epoch 18, CIFAR-10 Batch 3:  Cost:  0.247198\n",
      "Accuracy:  0.5802\n",
      "Epoch 18, CIFAR-10 Batch 4:  Cost:  0.210033\n",
      "Accuracy:  0.59\n",
      "Epoch 18, CIFAR-10 Batch 5:  Cost:  0.334391\n",
      "Accuracy:  0.5816\n",
      "Epoch 19, CIFAR-10 Batch 1:  Cost:  0.242251\n",
      "Accuracy:  0.5784\n",
      "Epoch 19, CIFAR-10 Batch 2:  Cost:  0.310556\n",
      "Accuracy:  0.5816\n",
      "Epoch 19, CIFAR-10 Batch 3:  Cost:  0.26942\n",
      "Accuracy:  0.5788\n",
      "Epoch 19, CIFAR-10 Batch 4:  Cost:  0.22107\n",
      "Accuracy:  0.5836\n",
      "Epoch 19, CIFAR-10 Batch 5:  Cost:  0.340718\n",
      "Accuracy:  0.5776\n",
      "Epoch 20, CIFAR-10 Batch 1:  Cost:  0.245612\n",
      "Accuracy:  0.5776\n",
      "Epoch 20, CIFAR-10 Batch 2:  Cost:  0.274001\n",
      "Accuracy:  0.5784\n",
      "Epoch 20, CIFAR-10 Batch 3:  Cost:  0.239884\n",
      "Accuracy:  0.5748\n",
      "Epoch 20, CIFAR-10 Batch 4:  Cost:  0.21073\n",
      "Accuracy:  0.575\n",
      "Epoch 20, CIFAR-10 Batch 5:  Cost:  0.271043\n",
      "Accuracy:  0.5754\n"
     ]
    }
   ],
   "source": [
    "\"\"\"\n",
    "DON'T MODIFY ANYTHING IN THIS CELL\n",
    "\"\"\"\n",
    "save_model_path = './image_classification'\n",
    "\n",
    "print('Training...')\n",
    "with tf.Session() as sess:\n",
    "    # Initializing the variables\n",
    "    sess.run(tf.global_variables_initializer())\n",
    "    \n",
    "    # Training cycle\n",
    "    for epoch in range(epochs):\n",
    "        # Loop over all batches\n",
    "        n_batches = 5\n",
    "        for batch_i in range(1, n_batches + 1):\n",
    "            for batch_features, batch_labels in helper.load_preprocess_training_batch(batch_i, batch_size):\n",
    "                train_neural_network(sess, optimizer, keep_probability, batch_features, batch_labels)\n",
    "            print('Epoch {:>2}, CIFAR-10 Batch {}:  '.format(epoch + 1, batch_i), end='')\n",
    "            print_stats(sess, batch_features, batch_labels, cost, accuracy)\n",
    "            \n",
    "    # Save Model\n",
    "    saver = tf.train.Saver()\n",
    "    save_path = saver.save(sess, save_model_path)"
   ]
  },
  {
   "cell_type": "markdown",
   "metadata": {
    "deletable": true,
    "editable": true
   },
   "source": [
    "# Checkpoint\n",
    "The model has been saved to disk.\n",
    "## Test Model\n",
    "Test your model against the test dataset.  This will be your final accuracy. You should have an accuracy greater than 50%. If you don't, keep tweaking the model architecture and parameters."
   ]
  },
  {
   "cell_type": "code",
   "execution_count": 237,
   "metadata": {
    "collapsed": false,
    "deletable": true,
    "editable": true
   },
   "outputs": [
    {
     "name": "stdout",
     "output_type": "stream",
     "text": [
      "Testing Accuracy: 0.5784216772151899\n",
      "\n"
     ]
    },
    {
     "data": {
      "image/png": "[encoded data removed]",
      "text/plain": [
       "<matplotlib.figure.Figure at 0x7f26e6625e10>"
      ]
     },
     "metadata": {
      "image/png": {
       "height": 319,
       "width": 355
      }
     },
     "output_type": "display_data"
    }
   ],
   "source": [
    "\"\"\"\n",
    "DON'T MODIFY ANYTHING IN THIS CELL\n",
    "\"\"\"\n",
    "%matplotlib inline\n",
    "%config InlineBackend.figure_format = 'retina'\n",
    "\n",
    "import tensorflow as tf\n",
    "import pickle\n",
    "import helper\n",
    "import random\n",
    "\n",
    "# Set batch size if not already set\n",
    "try:\n",
    "    if batch_size:\n",
    "        pass\n",
    "except NameError:\n",
    "    batch_size = 64\n",
    "\n",
    "save_model_path = './image_classification'\n",
    "n_samples = 4\n",
    "top_n_predictions = 3\n",
    "\n",
    "def test_model():\n",
    "    \"\"\"\n",
    "    Test the saved model against the test dataset\n",
    "    \"\"\"\n",
    "\n",
    "    test_features, test_labels = pickle.load(open('preprocess_training.p', mode='rb'))\n",
    "    loaded_graph = tf.Graph()\n",
    "\n",
    "    with tf.Session(graph=loaded_graph) as sess:\n",
    "        # Load model\n",
    "        loader = tf.train.import_meta_graph(save_model_path + '.meta')\n",
    "        loader.restore(sess, save_model_path)\n",
    "\n",
    "        # Get Tensors from loaded model\n",
    "        loaded_x = loaded_graph.get_tensor_by_name('x:0')\n",
    "        loaded_y = loaded_graph.get_tensor_by_name('y:0')\n",
    "        loaded_keep_prob = loaded_graph.get_tensor_by_name('keep_prob:0')\n",
    "        loaded_logits = loaded_graph.get_tensor_by_name('logits:0')\n",
    "        loaded_acc = loaded_graph.get_tensor_by_name('accuracy:0')\n",
    "        \n",
    "        # Get accuracy in batches for memory limitations\n",
    "        test_batch_acc_total = 0\n",
    "        test_batch_count = 0\n",
    "        \n",
    "        for train_feature_batch, train_label_batch in helper.batch_features_labels(test_features, test_labels, batch_size):\n",
    "            test_batch_acc_total += sess.run(\n",
    "                loaded_acc,\n",
    "                feed_dict={loaded_x: train_feature_batch, loaded_y: train_label_batch, loaded_keep_prob: 1.0})\n",
    "            test_batch_count += 1\n",
    "\n",
    "        print('Testing Accuracy: {}\\n'.format(test_batch_acc_total/test_batch_count))\n",
    "\n",
    "        # Print Random Samples\n",
    "        random_test_features, random_test_labels = tuple(zip(*random.sample(list(zip(test_features, test_labels)), n_samples)))\n",
    "        random_test_predictions = sess.run(\n",
    "            tf.nn.top_k(tf.nn.softmax(loaded_logits), top_n_predictions),\n",
    "            feed_dict={loaded_x: random_test_features, loaded_y: random_test_labels, loaded_keep_prob: 1.0})\n",
    "        helper.display_image_predictions(random_test_features, random_test_labels, random_test_predictions)\n",
    "\n",
    "\n",
    "test_model()"
   ]
  },
  {
   "cell_type": "markdown",
   "metadata": {
    "deletable": true,
    "editable": true
   },
   "source": [
    "## Why 50-70% Accuracy?\n",
    "You might be wondering why you can't get an accuracy any higher. First things first, 50% isn't bad for a simple CNN.  Pure guessing would get you 10% accuracy. However, you might notice people are getting scores [well above 70%](http://rodrigob.github.io/are_we_there_yet/build/classification_datasets_results.html#43494641522d3130).  That's because we haven't taught you all there is to know about neural networks. We still need to cover a few more techniques.\n",
    "## Submitting This Project\n",
    "When submitting this project, make sure to run all the cells before saving the notebook.  Save the notebook file as \"dlnd_image_classification.ipynb\" and save it as a HTML file under \"File\" -> \"Download as\".  Include the \"helper.py\" and \"problem_unittests.py\" files in your submission."
   ]
  }
 ],
 "metadata": {
  "kernelspec": {
   "display_name": "Python 3",
   "language": "python",
   "name": "python3"
  },
  "language_info": {
   "codemirror_mode": {
    "name": "ipython",
    "version": 3
   },
   "file_extension": ".py",
   "mimetype": "text/x-python",
   "name": "python",
   "nbconvert_exporter": "python",
   "pygments_lexer": "ipython3",
   "version": "3.5.3"
  },
  "widgets": {
   "state": {},
   "version": "1.1.2"
  }
 },
 "nbformat": 4,
 "nbformat_minor": 0
}
